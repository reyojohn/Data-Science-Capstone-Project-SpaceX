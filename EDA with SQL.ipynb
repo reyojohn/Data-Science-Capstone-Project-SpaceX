{
    "cells": [
        {
            "cell_type": "code",
            "execution_count": null,
            "metadata": {
                "collapsed": true
            },
            "outputs": [],
            "source": "SELECT CPS.NAME_OF_SCHOOL,CPS.COMMUNITY_AREA_NAME,CPS.AVERAGE_STUDENT_ATTENDANCE\nFROM CHICAGO_PUBLIC_SCHOOLS CPS LEFT JOIN CENSUS_DATA CD \nON CPS.COMMUNITY_AREA_NUMBER = CD.COMMUNITY_AREA_NUMBER\nWHERE HARDSHIP_INDEX = 98;\n\n\nSELECT CCD.CASE_NUMBER,CCD.PRIMARY_TYPE,CD.COMMUNITY_AREA_NAME\nFROM CRIME_DATA CCD LEFT JOIN  CENSUS_DATA CD\nON CCD.COMMUNITY_AREA_NUMBER = CD.COMMUNITY_AREA_NUMBER\nWHERE CCD.LOCATION_DESCRIPTION LIKE '%SCHOOL%';\n\nCREATE VIEW N_SCHOOLS(School_Name,Safety_Rating,Family_Rating,Environment_Rating,\nInstruction_Rating,Leaders_Rating,Teachers_Rating) as \nSELECT NAME_OF_SCHOOL,SAFETY_ICON,FAMILY_INVOLVEMENT_ICON,ENVIRONMENT_ICON,INSTRUCTION_ICON,\nLEADERS_ICON,TEACHERS_ICON\nFROM CHICAGO_PUBLIC_SCHOOLS;\n\nSELECT School_Name,Leaders_Rating FROM N_SCHOOLS;\n\n\n--#SET TERMINATOR@\nCREATE OR REPLACE PROCEDURE UPDATE_LEADERS_SCORE\n(IN in_School_ID INTEGER , IN in_Leader_Score INTEGER)\nLANGUAGE SQL \nMODIFIES SQL DATA \n\nBEGIN \n\n\nEND\n\n@\n\n\n\n--#SET TERMINATOR @\nCREATE OR REPLACE PROCEDURE UPDATE_LEADERS_SCORE\n(IN in_School_ID INTEGER , IN in_Leader_Score INTEGER)\n\nLANGUAGE SQL \nMODIFIES SQL DATA \n\nBEGIN\n \nUPDATE CHICAGO_PUBLIC_SCHOOLS\nSET LEADERS_SCORE = in_Leader_Score\nWHERE SCHOOL_ID = in_School_ID;\n\nEND\n\n@\n\n\n\n--#SET TERMINATOR @\nCREATE OR REPLACE PROCEDURE UPDATE_LEADERS_SCORE\n(IN in_School_ID INTEGER , IN in_Leader_Score INTEGER)\n\nLANGUAGE SQL \nMODIFIES SQL DATA \n\nBEGIN\n \nUPDATE CHICAGO_PUBLIC_SCHOOLS\nSET LEADERS_SCORE = in_Leader_Score\nWHERE SCHOOL_ID = in_School_ID;\n\nIF in_Leader_Score > 0 AND in_Leader_Score < 20 THEN\n\n    UPDATE CHICAGO_PUBLIC_SCHOOLS SET LEADERS_ICON = 'Very weak'\n    WHERE SCHOOL_ID = in_School_ID;\n\nELSEIF in_Leader_Score < 40 THEN\n\n    UPDATE CHICAGO_PUBLIC_SCHOOLS SET LEADERS_ICON = 'Weak'\n    WHERE SCHOOL_ID = in_School_ID;\n\nELSEIF in_Leader_Score < 60 THEN\n\n    UPDATE CHICAGO_PUBLIC_SCHOOLS SET LEADERS_ICON = 'Average'\n    WHERE SCHOOL_ID = in_School_ID;\n\nELSEIF in_Leader_Score < 80 THEN\n\n    UPDATE CHICAGO_PUBLIC_SCHOOLS SET LEADERS_ICON = 'Strong'\n    WHERE SCHOOL_ID = in_School_ID;\n\nELSEIF in_Leader_Score < 100 THEN\n\n    UPDATE CHICAGO_PUBLIC_SCHOOLS SET LEADERS_ICON = 'Very Strong'\n    WHERE SCHOOL_ID = in_School_ID;\n\nEND IF;\n\nEND\n\n@\n\n--#SET TERMINATOR @\nCREATE OR REPLACE PROCEDURE UPDATE_LEADERS_SCORE\n(IN in_School_ID INTEGER , IN in_Leader_Score INTEGER)\n\nLANGUAGE SQL \nMODIFIES SQL DATA \n\nBEGIN\n \nUPDATE CHICAGO_PUBLIC_SCHOOLS\nSET LEADERS_SCORE = in_Leader_Score\nWHERE SCHOOL_ID = in_School_ID;\n\nIF in_Leader_Score > 0 AND in_Leader_Score < 20 THEN\n\n    UPDATE CHICAGO_PUBLIC_SCHOOLS SET LEADERS_ICON = 'Very weak'\n    WHERE SCHOOL_ID = in_School_ID;\n\nELSEIF in_Leader_Score < 40 THEN\n\n    UPDATE CHICAGO_PUBLIC_SCHOOLS SET LEADERS_ICON = 'Weak'\n    WHERE SCHOOL_ID = in_School_ID;\n\nELSEIF in_Leader_Score < 60 THEN\n\n    UPDATE CHICAGO_PUBLIC_SCHOOLS SET LEADERS_ICON = 'Average'\n    WHERE SCHOOL_ID = in_School_ID;\n\nELSEIF in_Leader_Score < 80 THEN\n\n    UPDATE CHICAGO_PUBLIC_SCHOOLS SET LEADERS_ICON = 'Strong'\n    WHERE SCHOOL_ID = in_School_ID;\n\nELSEIF in_Leader_Score < 100 THEN\n\n    UPDATE CHICAGO_PUBLIC_SCHOOLS SET LEADERS_ICON = 'Very Strong'\n    WHERE SCHOOL_ID = in_School_ID;\n\nELSE \n    ROLLBACK WORK;\nEND IF;\n\nEND\n@\n\n\n\n--#SET TERMINATOR @\nCREATE OR REPLACE PROCEDURE UPDATE_LEADERS_SCORE\n(IN in_School_ID INTEGER , IN in_Leader_Score INTEGER)\n\nLANGUAGE SQL \nMODIFIES SQL DATA \n\nBEGIN\n \nUPDATE CHICAGO_PUBLIC_SCHOOLS\nSET LEADERS_SCORE = in_Leader_Score\nWHERE SCHOOL_ID = in_School_ID;\n\nIF in_Leader_Score > 0 AND in_Leader_Score < 20 THEN\n\n    UPDATE CHICAGO_PUBLIC_SCHOOLS SET LEADERS_ICON = 'Very weak'\n    WHERE SCHOOL_ID = in_School_ID;\n\nELSEIF in_Leader_Score < 40 THEN\n\n    UPDATE CHICAGO_PUBLIC_SCHOOLS SET LEADERS_ICON = 'Weak'\n    WHERE SCHOOL_ID = in_School_ID;\n\nELSEIF in_Leader_Score < 60 THEN\n\n    UPDATE CHICAGO_PUBLIC_SCHOOLS SET LEADERS_ICON = 'Average'\n    WHERE SCHOOL_ID = in_School_ID;\n\nELSEIF in_Leader_Score < 80 THEN\n\n    UPDATE CHICAGO_PUBLIC_SCHOOLS SET LEADERS_ICON = 'Strong'\n    WHERE SCHOOL_ID = in_School_ID;\n\nELSEIF in_Leader_Score < 100 THEN\n\n    UPDATE CHICAGO_PUBLIC_SCHOOLS SET LEADERS_ICON = 'Very Strong'\n    WHERE SCHOOL_ID = in_School_ID;\nEND IF;\nCOMMIT WORK;\n\nEND\n@\n\n\n\n\n\n\n\n\nCALL UPDATE_LEADERS_SCORE(609676,38);\nSELECT SCHOOL_ID, LEADERS_SCORE,LEADERS_ICON FROM CHICAGO_PUBLIC_SCHOOLS\nWHERE SCHOOL_ID = 609676;\n--\n--CALL UPDATE_LEADERS_SCORE4(609676,101);\n--SELECT SCHOOL_ID, LEADERS_SCORE,LEADERS_ICON FROM CHICAGO_PUBLIC_SCHOOLS\n--WHERE SCHOOL_ID = 609676;\n\n\n"
        }
    ],
    "metadata": {
        "kernelspec": {
            "display_name": "Python 3.8",
            "language": "python",
            "name": "python3"
        },
        "language_info": {
            "codemirror_mode": {
                "name": "ipython",
                "version": 3
            },
            "file_extension": ".py",
            "mimetype": "text/x-python",
            "name": "python",
            "nbconvert_exporter": "python",
            "pygments_lexer": "ipython3",
            "version": "3.8.10"
        }
    },
    "nbformat": 4,
    "nbformat_minor": 1
}